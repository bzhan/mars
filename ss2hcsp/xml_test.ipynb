{
 "cells": [
  {
   "cell_type": "code",
   "execution_count": 24,
   "metadata": {},
   "outputs": [],
   "source": [
    "from xml.dom.minidom import parse, Element"
   ]
  },
  {
   "cell_type": "code",
   "execution_count": 3,
   "metadata": {},
   "outputs": [],
   "source": [
    "data = open('../CaseStudies/HCS/hcs.xml')"
   ]
  },
  {
   "cell_type": "code",
   "execution_count": 4,
   "metadata": {},
   "outputs": [],
   "source": [
    "dom = parse(data)"
   ]
  },
  {
   "cell_type": "code",
   "execution_count": 8,
   "metadata": {},
   "outputs": [],
   "source": [
    "model = dom.getElementsByTagName('Model')[0]"
   ]
  },
  {
   "cell_type": "code",
   "execution_count": 12,
   "metadata": {},
   "outputs": [],
   "source": [
    "system = model.getElementsByTagName('System')[0]"
   ]
  },
  {
   "cell_type": "code",
   "execution_count": 13,
   "metadata": {},
   "outputs": [],
   "source": [
    "blocks = system.getElementsByTagName('Block')"
   ]
  },
  {
   "cell_type": "code",
   "execution_count": 15,
   "metadata": {},
   "outputs": [],
   "source": [
    "charts = system.getElementsByTagName('chart')"
   ]
  },
  {
   "cell_type": "code",
   "execution_count": 28,
   "metadata": {},
   "outputs": [],
   "source": [
    "nodes = system.childNodes"
   ]
  },
  {
   "cell_type": "code",
   "execution_count": 33,
   "metadata": {},
   "outputs": [],
   "source": [
    "blocks = [node for node in nodes if node.nodeName == 'Block']"
   ]
  },
  {
   "cell_type": "code",
   "execution_count": 35,
   "metadata": {},
   "outputs": [],
   "source": [
    "lines = [node for node in nodes if node.nodeName == 'Line']"
   ]
  },
  {
   "cell_type": "code",
   "execution_count": 44,
   "metadata": {},
   "outputs": [
    {
     "data": {
      "text/plain": [
       "'Scope'"
      ]
     },
     "execution_count": 44,
     "metadata": {},
     "output_type": "execute_result"
    }
   ],
   "source": [
    "blocks[0].getAttribute('BlockType')"
   ]
  },
  {
   "cell_type": "code",
   "execution_count": 46,
   "metadata": {},
   "outputs": [
    {
     "data": {
      "text/plain": [
       "'Scope'"
      ]
     },
     "execution_count": 46,
     "metadata": {},
     "output_type": "execute_result"
    }
   ],
   "source": [
    "blocks[0].getAttribute('Name')"
   ]
  },
  {
   "cell_type": "code",
   "execution_count": 63,
   "metadata": {},
   "outputs": [],
   "source": [
    "child_nodes = blocks[0].getElementsByTagName(\"P\")\n",
    "st_node = [node for node in child_nodes if node.getAttribute('Name') == 'SampleTime']"
   ]
  },
  {
   "cell_type": "code",
   "execution_count": 87,
   "metadata": {
    "scrolled": true
   },
   "outputs": [
    {
     "data": {
      "text/plain": [
       "'0'"
      ]
     },
     "execution_count": 87,
     "metadata": {},
     "output_type": "execute_result"
    }
   ],
   "source": [
    "st_node[0].childNodes[0].data"
   ]
  },
  {
   "cell_type": "code",
   "execution_count": 43,
   "metadata": {},
   "outputs": [
    {
     "name": "stdout",
     "output_type": "stream",
     "text": [
      "Help on class Element in module xml.dom.minidom:\n",
      "\n",
      "class Element(Node)\n",
      " |  Class giving the NodeType constants.\n",
      " |  \n",
      " |  Method resolution order:\n",
      " |      Element\n",
      " |      Node\n",
      " |      xml.dom.Node\n",
      " |      builtins.object\n",
      " |  \n",
      " |  Methods defined here:\n",
      " |  \n",
      " |  __init__(self, tagName, namespaceURI=None, prefix=None, localName=None)\n",
      " |      Initialize self.  See help(type(self)) for accurate signature.\n",
      " |  \n",
      " |  __repr__(self)\n",
      " |      Return repr(self).\n",
      " |  \n",
      " |  getAttribute(self, attname)\n",
      " |  \n",
      " |  getAttributeNS(self, namespaceURI, localName)\n",
      " |  \n",
      " |  getAttributeNode(self, attrname)\n",
      " |  \n",
      " |  getAttributeNodeNS(self, namespaceURI, localName)\n",
      " |  \n",
      " |  getElementsByTagName(self, name)\n",
      " |  \n",
      " |  getElementsByTagNameNS(self, namespaceURI, localName)\n",
      " |  \n",
      " |  hasAttribute(self, name)\n",
      " |  \n",
      " |  hasAttributeNS(self, namespaceURI, localName)\n",
      " |  \n",
      " |  hasAttributes(self)\n",
      " |  \n",
      " |  removeAttribute(self, name)\n",
      " |  \n",
      " |  removeAttributeNS(self, namespaceURI, localName)\n",
      " |  \n",
      " |  removeAttributeNode(self, node)\n",
      " |  \n",
      " |  removeAttributeNodeNS = removeAttributeNode(self, node)\n",
      " |  \n",
      " |  setAttribute(self, attname, value)\n",
      " |  \n",
      " |  setAttributeNS(self, namespaceURI, qualifiedName, value)\n",
      " |  \n",
      " |  setAttributeNode(self, attr)\n",
      " |  \n",
      " |  setAttributeNodeNS = setAttributeNode(self, attr)\n",
      " |  \n",
      " |  setIdAttribute(self, name)\n",
      " |  \n",
      " |  setIdAttributeNS(self, namespaceURI, localName)\n",
      " |  \n",
      " |  setIdAttributeNode(self, idAttr)\n",
      " |  \n",
      " |  unlink(self)\n",
      " |  \n",
      " |  writexml(self, writer, indent='', addindent='', newl='')\n",
      " |  \n",
      " |  ----------------------------------------------------------------------\n",
      " |  Data descriptors defined here:\n",
      " |  \n",
      " |  attributes\n",
      " |      NamedNodeMap of attributes on the element.\n",
      " |  \n",
      " |  childNodes\n",
      " |  \n",
      " |  localName\n",
      " |      Namespace-local name of this element.\n",
      " |  \n",
      " |  namespaceURI\n",
      " |  \n",
      " |  nextSibling\n",
      " |  \n",
      " |  nodeName\n",
      " |  \n",
      " |  ownerDocument\n",
      " |  \n",
      " |  parentNode\n",
      " |  \n",
      " |  prefix\n",
      " |  \n",
      " |  previousSibling\n",
      " |  \n",
      " |  tagName\n",
      " |  \n",
      " |  ----------------------------------------------------------------------\n",
      " |  Data and other attributes defined here:\n",
      " |  \n",
      " |  nodeType = 1\n",
      " |  \n",
      " |  nodeValue = None\n",
      " |  \n",
      " |  schemaType = <TypeInfo None>\n",
      " |  \n",
      " |  ----------------------------------------------------------------------\n",
      " |  Methods inherited from Node:\n",
      " |  \n",
      " |  __bool__(self)\n",
      " |  \n",
      " |  __enter__(self)\n",
      " |      # A Node is its own context manager, to ensure that an unlink() call occurs.\n",
      " |      # This is similar to how a file object works.\n",
      " |  \n",
      " |  __exit__(self, et, ev, tb)\n",
      " |  \n",
      " |  appendChild(self, node)\n",
      " |  \n",
      " |  cloneNode(self, deep)\n",
      " |  \n",
      " |  getInterface(self, feature)\n",
      " |  \n",
      " |  getUserData(self, key)\n",
      " |  \n",
      " |  hasChildNodes(self)\n",
      " |  \n",
      " |  insertBefore(self, newChild, refChild)\n",
      " |  \n",
      " |  isSameNode(self, other)\n",
      " |  \n",
      " |  isSupported(self, feature, version)\n",
      " |  \n",
      " |  normalize(self)\n",
      " |  \n",
      " |  removeChild(self, oldChild)\n",
      " |  \n",
      " |  replaceChild(self, newChild, oldChild)\n",
      " |  \n",
      " |  setUserData(self, key, data, handler)\n",
      " |  \n",
      " |  toprettyxml(self, indent='\\t', newl='\\n', encoding=None)\n",
      " |  \n",
      " |  toxml(self, encoding=None)\n",
      " |  \n",
      " |  ----------------------------------------------------------------------\n",
      " |  Data descriptors inherited from Node:\n",
      " |  \n",
      " |  __dict__\n",
      " |      dictionary for instance variables (if defined)\n",
      " |  \n",
      " |  __weakref__\n",
      " |      list of weak references to the object (if defined)\n",
      " |  \n",
      " |  firstChild\n",
      " |      First child node, or None.\n",
      " |  \n",
      " |  lastChild\n",
      " |      Last child node, or None.\n",
      " |  \n",
      " |  ----------------------------------------------------------------------\n",
      " |  Data and other attributes inherited from xml.dom.Node:\n",
      " |  \n",
      " |  ATTRIBUTE_NODE = 2\n",
      " |  \n",
      " |  CDATA_SECTION_NODE = 4\n",
      " |  \n",
      " |  COMMENT_NODE = 8\n",
      " |  \n",
      " |  DOCUMENT_FRAGMENT_NODE = 11\n",
      " |  \n",
      " |  DOCUMENT_NODE = 9\n",
      " |  \n",
      " |  DOCUMENT_TYPE_NODE = 10\n",
      " |  \n",
      " |  ELEMENT_NODE = 1\n",
      " |  \n",
      " |  ENTITY_NODE = 6\n",
      " |  \n",
      " |  ENTITY_REFERENCE_NODE = 5\n",
      " |  \n",
      " |  NOTATION_NODE = 12\n",
      " |  \n",
      " |  PROCESSING_INSTRUCTION_NODE = 7\n",
      " |  \n",
      " |  TEXT_NODE = 3\n",
      "\n"
     ]
    }
   ],
   "source": [
    "help(Element)"
   ]
  }
 ],
 "metadata": {
  "kernelspec": {
   "display_name": "Python 3",
   "language": "python",
   "name": "python3"
  },
  "language_info": {
   "codemirror_mode": {
    "name": "ipython",
    "version": 3
   },
   "file_extension": ".py",
   "mimetype": "text/x-python",
   "name": "python",
   "nbconvert_exporter": "python",
   "pygments_lexer": "ipython3",
   "version": "3.6.6"
  }
 },
 "nbformat": 4,
 "nbformat_minor": 2
}
