{
 "cells": [
  {
   "cell_type": "code",
   "execution_count": 1,
   "id": "8e410a91",
   "metadata": {},
   "outputs": [],
   "source": [
    "from ss2hcsp.hcsp.simulator import SimInfo, exec_parallel\n",
    "from ss2hcsp.hcsp.hcsp import HCSPOutput\n",
    "from ss2hcsp.hcsp.graph_plot import graph\n",
    "import random"
   ]
  },
  {
   "cell_type": "code",
   "execution_count": 2,
   "id": "4822875c",
   "metadata": {},
   "outputs": [],
   "source": [
    "def run_processes(infos, num_io_events, *, output):\n",
    "    list_infos = []\n",
    "    for name, ps in infos.items():\n",
    "        list_infos.append(SimInfo(name, ps, outputs=[HCSPOutput(var) for var in output]))\n",
    "    res = exec_parallel(list_infos, num_io_events=num_io_events)\n",
    "    events = [event['str'] for event in res['trace'] if event['str'] not in ('start', 'step')]\n",
    "    return res, events"
   ]
  },
  {
   "cell_type": "markdown",
   "id": "fdf741f7",
   "metadata": {},
   "source": [
    "We begin with a simple example of random walk on a 6-by-6 grid."
   ]
  },
  {
   "cell_type": "code",
   "execution_count": 6,
   "id": "e2421027",
   "metadata": {},
   "outputs": [
    {
     "name": "stdout",
     "output_type": "stream",
     "text": [
      "Number of steps: 94\n"
     ]
    }
   ],
   "source": [
    "random.seed(1)\n",
    "res, events = run_processes({\n",
    "    'P0': \"\"\"\n",
    "    x := 0; y := 0; {\n",
    "        z := bernoulli(0.5);\n",
    "        if (z == 1 && x < 5) {\n",
    "            x := x + 1;\n",
    "        } else if (x > 0) {\n",
    "            x := x - 1;\n",
    "        }\n",
    "        z := bernoulli(0.5);\n",
    "        if (z == 1 && y < 5) {\n",
    "            y := y + 1;\n",
    "        } else if (y > 0) {\n",
    "            y := y - 1;\n",
    "        }\n",
    "    }*(x != 5 || y != 5)\"\"\"\n",
    "}, 100, output=[\"x\", \"y\", \"z\"])\n",
    "\n",
    "print(\"Number of steps:\", len(res['time_series']['P0'][2:]))"
   ]
  },
  {
   "cell_type": "code",
   "execution_count": 12,
   "id": "98e57231",
   "metadata": {},
   "outputs": [],
   "source": [
    "from tkinter import * \n",
    "from tkinter import ttk\n",
    "import time\n",
    "\n",
    "tk = Tk()\n",
    "tk.title(\"Random walk\")\n",
    "\n",
    "canvas = Canvas(tk, width=360, height=360)\n",
    "canvas.pack()\n",
    "\n",
    "# Create lines\n",
    "for i in range(6):\n",
    "    canvas.create_line(0, 60*(i+1), 360, 60*(i+1))\n",
    "    canvas.create_line(60*(i+1), 0, 60*(i+1), 360)\n",
    "\n",
    "# Create regions\n",
    "regions = dict()\n",
    "for i in range(6):\n",
    "    for j in range(6):\n",
    "        regions[(i,j)] = canvas.create_rectangle(60*i, 60*j, 60*(i+1), 60*(j+1), fill=\"green\")\n",
    "\n",
    "# Obtain data\n",
    "x, y = [], []\n",
    "for item in res['time_series']['P0'][2:]:\n",
    "    x.append(item['state']['x'])\n",
    "    y.append(item['state']['y'])\n",
    "\n",
    "# Create scale\n",
    "prev_x, prev_y = 0, 0\n",
    "scale_var = IntVar()\n",
    "def set_scale(*args):\n",
    "    global prev_x, prev_y\n",
    "    step = scale_var.get()\n",
    "    step_label.set(\"Step: %s\" % step)\n",
    "    canvas.itemconfigure(regions[(prev_x, prev_y)], fill=\"green\")\n",
    "    canvas.itemconfigure(regions[(x[step],y[step])], fill=\"blue\")\n",
    "    prev_x, prev_y = x[step], y[step]\n",
    "\n",
    "s = ttk.Scale(tk, orient=HORIZONTAL, length=200, from_=0, to=len(x)-1, variable=scale_var, command=set_scale)\n",
    "s.pack()\n",
    "step_label = StringVar()\n",
    "lb = ttk.Label(tk, textvariable=step_label)\n",
    "lb.pack()\n",
    "set_scale()\n",
    "\n",
    "# Create run button\n",
    "def run_simulation(*args):\n",
    "    start = scale_var.get()\n",
    "    for i in range(start+1, len(x)):\n",
    "        scale_var.set(i)\n",
    "        set_scale()\n",
    "run_button = ttk.Button(tk, text=\"Play\", command=run_simulation)\n",
    "run_button.pack()\n",
    "\n",
    "tk.mainloop()"
   ]
  }
 ],
 "metadata": {
  "kernelspec": {
   "display_name": "Python 3 (ipykernel)",
   "language": "python",
   "name": "python3"
  },
  "language_info": {
   "codemirror_mode": {
    "name": "ipython",
    "version": 3
   },
   "file_extension": ".py",
   "mimetype": "text/x-python",
   "name": "python",
   "nbconvert_exporter": "python",
   "pygments_lexer": "ipython3",
   "version": "3.10.11"
  }
 },
 "nbformat": 4,
 "nbformat_minor": 5
}
