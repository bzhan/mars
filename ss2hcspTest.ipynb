{
 "cells": [
  {
   "cell_type": "code",
   "execution_count": 1,
   "metadata": {},
   "outputs": [],
   "source": [
    "from ss2hcsp.sl.sl_diagram import SL_Diagram\n",
    "from ss2hcsp.sl.get_hcsp import get_hcsp\n",
    "from ss2hcsp.hcsp.pprint import pprint\n",
    "from ss2hcsp.sf.sf_chart import get_common_ancestor\n",
    "from ss2hcsp.sf.sf_state import OR_State, AND_State\n",
    "from ss2hcsp.hcsp import hcsp\n",
    "from ss2hcsp.hcsp import expr\n",
    "from ss2hcsp.hcsp.pprint import pprint\n",
    "from ss2hcsp.matlab.convert import convert_expr, convert_cmd"
   ]
  },
  {
   "cell_type": "code",
   "execution_count": 2,
   "metadata": {},
   "outputs": [
    {
     "name": "stdout",
     "output_type": "stream",
     "text": [
      "Chart(Chart):\n",
      "AND{id=35, name=Chart}\n",
      "  Children:\n",
      "    AND{id=4, name=A}\n",
      "      Children:\n",
      "        OR{id=7, name=A1}\n",
      "          Default: (None)--{x = -1}-->(7)\n",
      "          Out-Transitions:\n",
      "            (7)--->(9)\n",
      "        OR{id=9, name=A2}\n",
      "          en: [f(\"en_A2\")]\n",
      "          Out-Transitions:\n",
      "            (9)--->(32)\n",
      "        OR{id=32, name=A3}\n",
      "          en: [f(\"en_A3\")]\n",
      "    AND{id=6, name=B}\n",
      "      Children:\n",
      "        OR{id=16, name=B1}\n",
      "          Default: (None)--->(16)\n",
      "          Out-Transitions:\n",
      "            (16)--{f(\"b\")}/{E;\n",
      "        f(\"tb\")}-->(17)\n",
      "        OR{id=17, name=B2}\n",
      "          en: [f(\"en_B2\")]\n",
      "\n"
     ]
    }
   ],
   "source": [
    "location = \"./Examples/Stateflow/tests/no_event_trig.xml\"\n",
    "diagram = SL_Diagram(location=location)\n",
    "model_name = diagram.parse_xml()\n",
    "diagram.add_line_name()\n",
    "_, _, charts, _, _, _, _, _ = diagram.seperate_diagram()\n",
    "chart = charts[0]\n",
    "print(charts[0])"
   ]
  },
  {
   "cell_type": "code",
   "execution_count": 3,
   "metadata": {},
   "outputs": [
    {
     "data": {
      "text/plain": [
       "FunctionCall('f',AConst('en_A3'))"
      ]
     },
     "execution_count": 3,
     "metadata": {},
     "output_type": "execute_result"
    }
   ],
   "source": [
    "chart.diagram.children[0].children[2].en"
   ]
  },
  {
   "cell_type": "code",
   "execution_count": 4,
   "metadata": {},
   "outputs": [
    {
     "data": {
      "text/plain": [
       "[Function('f',('s',),FunctionCall('fprintf',Var('s')),None)]"
      ]
     },
     "execution_count": 4,
     "metadata": {},
     "output_type": "execute_result"
    }
   ],
   "source": [
    "chart.diagram.funs"
   ]
  },
  {
   "cell_type": "code",
   "execution_count": 5,
   "metadata": {
    "scrolled": false
   },
   "outputs": [
    {
     "data": {
      "text/plain": [
       "{'4': <ss2hcsp.sf.sf_state.AND_State at 0x1ee30b73c18>,\n",
       " '7': <ss2hcsp.sf.sf_state.OR_State at 0x1ee328229b0>,\n",
       " '9': <ss2hcsp.sf.sf_state.OR_State at 0x1ee32822780>,\n",
       " '32': <ss2hcsp.sf.sf_state.OR_State at 0x1ee32822550>,\n",
       " '6': <ss2hcsp.sf.sf_state.AND_State at 0x1ee32822eb8>,\n",
       " '16': <ss2hcsp.sf.sf_state.OR_State at 0x1ee32827470>,\n",
       " '17': <ss2hcsp.sf.sf_state.OR_State at 0x1ee3282e208>,\n",
       " '35': <ss2hcsp.sf.sf_state.AND_State at 0x1ee30b73080>}"
      ]
     },
     "execution_count": 5,
     "metadata": {},
     "output_type": "execute_result"
    }
   ],
   "source": [
    "chart.all_states"
   ]
  },
  {
   "cell_type": "code",
   "execution_count": 6,
   "metadata": {},
   "outputs": [
    {
     "data": {
      "text/plain": [
       "ss2hcsp.sf.sf_state.AND_State"
      ]
     },
     "execution_count": 6,
     "metadata": {},
     "output_type": "execute_result"
    }
   ],
   "source": [
    "type(chart.diagram)"
   ]
  },
  {
   "cell_type": "code",
   "execution_count": 7,
   "metadata": {},
   "outputs": [],
   "source": [
    "def get_procedures(chart):\n",
    "    res = dict()\n",
    "    for fun in chart.diagram.funs:\n",
    "        res[fun.name] = fun\n",
    "    return res"
   ]
  },
  {
   "cell_type": "code",
   "execution_count": 8,
   "metadata": {},
   "outputs": [],
   "source": [
    "def get_chain_to_ancestor(state, ancestor):\n",
    "    \"\"\"Chain of states from the current state to ancestor (not including ancestor).\"\"\"\n",
    "    chain = []\n",
    "    while state != ancestor:\n",
    "        chain.append(state)\n",
    "        state = state.father\n",
    "    return chain"
   ]
  },
  {
   "cell_type": "code",
   "execution_count": 9,
   "metadata": {},
   "outputs": [],
   "source": [
    "def en_proc_name(state):\n",
    "    \"\"\"en action of state.\"\"\"\n",
    "    return \"en_\" + state.name\n",
    "\n",
    "def du_proc_name(state):\n",
    "    \"\"\"du action of state.\"\"\"\n",
    "    return \"du_\" + state.name\n",
    "\n",
    "def ex_proc_name(state):\n",
    "    \"\"\"ex action of state.\"\"\"\n",
    "    return \"ex_\" + state.name\n",
    "\n",
    "def active_state_name(state):\n",
    "    \"\"\"Variable indicating which child state of the current state is active.\n",
    "    \n",
    "    This variable has type string. It is applicable only if the current state\n",
    "    has child OR-states. If one of the child OR-states is active, this variable\n",
    "    is assigned the name of the child state. If none of the child OR-states is\n",
    "    active, this variable is assigned the empty string.\n",
    "\n",
    "    \"\"\"\n",
    "    return state.name + \"_st\""
   ]
  },
  {
   "cell_type": "code",
   "execution_count": 10,
   "metadata": {},
   "outputs": [],
   "source": [
    "def entry_proc_name(state):\n",
    "    \"\"\"Procedure for entry into state.\n",
    "    \n",
    "    This does NOT include recursive entry into child states.\n",
    "    \n",
    "    \"\"\"\n",
    "    return \"entry_\" + state.name\n",
    "\n",
    "def during_proc_name(state):\n",
    "    \"\"\"Procedure for executing at state.\n",
    "    \n",
    "    This does NOT include recursive execution of child states.\n",
    "    \n",
    "    \"\"\"\n",
    "    return \"during_\" + state.name\n",
    "\n",
    "def exit_proc_name(state):\n",
    "    \"\"\"Procedure for exiting from state.\n",
    "    \n",
    "    This does NOT include recursive exit from child states.\n",
    "    \n",
    "    \"\"\"\n",
    "    return \"exit_\" + state.name"
   ]
  },
  {
   "cell_type": "code",
   "execution_count": 11,
   "metadata": {},
   "outputs": [],
   "source": [
    "def get_en_proc(state):\n",
    "    if not state.en:\n",
    "        return hcsp.Skip()\n",
    "    return convert_cmd(state.en, procedures=get_procedures(chart))\n",
    "\n",
    "def get_du_proc(state):\n",
    "    if not state.du:\n",
    "        return hcsp.Skip()\n",
    "    return convert_cmd(state.du, procedures=get_procedures(chart))\n",
    "\n",
    "def get_ex_proc(state):\n",
    "    if not state.ex:\n",
    "        return hcsp.Skip()\n",
    "    return convert_cmd(state.ex, procedures=get_procedures(chart))"
   ]
  },
  {
   "cell_type": "code",
   "execution_count": 12,
   "metadata": {},
   "outputs": [],
   "source": [
    "def get_entry_proc(state):\n",
    "    \"\"\"Entry procedure for the given state.\n",
    "    \n",
    "    The procedure does only two things:\n",
    "    - if the current state is an OR-state, assign the corresponding active state\n",
    "      variable.\n",
    "    - call the en action of the state.\n",
    "\n",
    "    \"\"\"\n",
    "    procs = []\n",
    "    \n",
    "    # Set the activation variable\n",
    "    if isinstance(state, OR_State):\n",
    "        procs.append(hcsp.Assign(active_state_name(state.father), expr.AConst(state.name)))\n",
    "    \n",
    "    # Perform en action\n",
    "    procs.append(hcsp.Var(en_proc_name(state)))\n",
    "    return hcsp.seq(procs)"
   ]
  },
  {
   "cell_type": "code",
   "execution_count": 13,
   "metadata": {},
   "outputs": [],
   "source": [
    "def get_transition_proc(src, dst, middle_proc=None):\n",
    "    \"\"\"Get procedure for transitioning between two states.\n",
    "    \n",
    "    src - source state.\n",
    "    dst - destination state.\n",
    "    middle_proc : HCSP - procedure to execute in the middle.\n",
    "\n",
    "    \"\"\"\n",
    "    ancestor = get_common_ancestor(src, dst)\n",
    "    procs = []\n",
    "\n",
    "    # Exit states from src to ancestor (not including ancestor)\n",
    "    procs.append(get_rec_exit_proc(src))\n",
    "    for state in get_chain_to_ancestor(src, ancestor)[1:]:\n",
    "        procs.append(hcsp.Var(exit_proc_name(state)))\n",
    "        \n",
    "    if middle_proc is not None:\n",
    "        procs.append(middle_proc)\n",
    "        \n",
    "    # Enter states from ancestor to state1\n",
    "    for state in reversed(get_chain_to_ancestor(dst, ancestor)[1:]):\n",
    "        procs.append(hcsp.Var(entry_proc_name(state)))\n",
    "    procs.append(get_rec_entry_proc(dst))\n",
    "        \n",
    "    return hcsp.seq(procs)"
   ]
  },
  {
   "cell_type": "code",
   "execution_count": 14,
   "metadata": {},
   "outputs": [],
   "source": [
    "def get_rec_entry_proc(state):\n",
    "    \"\"\"Return the process for recursively entering into state.\"\"\"\n",
    "    procs = []\n",
    "    procs.append(hcsp.Var(entry_proc_name(state)))\n",
    "\n",
    "    # Recursively enter into child states\n",
    "    if state.children:\n",
    "        if isinstance(state.children[0], AND_State):\n",
    "            for child in state.children:\n",
    "                procs.append(get_rec_entry_proc(child))\n",
    "        elif isinstance(state.children[0], OR_State):\n",
    "            for child in state.children:\n",
    "                if child.default_tran:\n",
    "                    procs.append(get_rec_entry_proc(child))\n",
    "        else:\n",
    "            raise TypeError\n",
    "    return hcsp.seq(procs)"
   ]
  },
  {
   "cell_type": "code",
   "execution_count": 15,
   "metadata": {},
   "outputs": [],
   "source": [
    "def get_rec_exit_proc(state):\n",
    "    \"\"\"Return the process for recursively exiting from state.\"\"\"\n",
    "    procs = []\n",
    "    \n",
    "    # Recursively exit from child states\n",
    "    if state.children:\n",
    "        if isinstance(state.children[0], AND_State):\n",
    "            for child in reversed(state.children):\n",
    "                procs.append(get_rec_exit_proc(child))\n",
    "        elif isinstance(state.children[0], OR_State):\n",
    "            ite = []\n",
    "            for child in state.children:\n",
    "                ite.append((expr.RelExpr(\"==\", expr.AVar(active_state_name(state)), expr.AConst(child.name)),\n",
    "                            get_rec_exit_proc(child)))\n",
    "            procs.append(hcsp.ITE(ite))\n",
    "        else:\n",
    "            raise TypeError\n",
    "    \n",
    "    procs.append(hcsp.Var(exit_proc_name(state)))\n",
    "    return hcsp.seq(procs)"
   ]
  },
  {
   "cell_type": "code",
   "execution_count": 16,
   "metadata": {},
   "outputs": [],
   "source": [
    "def init_name():\n",
    "    return \"init_\" + chart.name\n",
    "\n",
    "def exec_name():\n",
    "    return \"exec_\" + chart.name\n",
    "\n",
    "def get_init_proc():\n",
    "    return get_rec_entry_proc(chart.diagram)\n",
    "\n",
    "def get_exec_proc():\n",
    "    return get_rec_during_proc(chart.diagram)\n",
    "\n",
    "def raise_event(event):\n",
    "    return hcsp.Var(exec_name())"
   ]
  },
  {
   "cell_type": "code",
   "execution_count": 17,
   "metadata": {},
   "outputs": [],
   "source": [
    "def get_during_proc(state):\n",
    "    \"\"\"During procedure for the given state.\n",
    "    \n",
    "    The procedure performs the following steps:\n",
    "    - check if there are outgoing transitions from the state. If one of them is\n",
    "      valid, carry out the transition.\n",
    "    - If none of the transitions are valid, perform the du action of the state.\n",
    "\n",
    "    \"\"\"\n",
    "    procs = []\n",
    "\n",
    "    if isinstance(state, OR_State) and state.out_trans:\n",
    "        ite = []\n",
    "        for tran in state.out_trans:\n",
    "            cond, cond_act, tran_act = expr.true_expr, None, None\n",
    "            src = chart.all_states[tran.src]\n",
    "            dst = chart.all_states[tran.dst]\n",
    "            if tran.label is not None:\n",
    "                if tran.label.event is not None:\n",
    "                    raise NotImplementedError\n",
    "                if tran.label.cond is not None:\n",
    "                    cond = convert_expr(tran.label.cond)\n",
    "                if tran.label.cond_act is not None:\n",
    "                    cond_act = convert_cmd(tran.label.cond_act, raise_event=raise_event, procedures=get_procedures(chart))\n",
    "                if tran.label.tran_act is not None:\n",
    "                    tran_act = convert_cmd(tran.label.tran_act, raise_event=raise_event, procedures=get_procedures(chart))\n",
    "            tran_act = get_transition_proc(src, dst, tran_act)\n",
    "            act = tran_act if cond_act is None else hcsp.seq([cond_act, tran_act])\n",
    "            ite.append((cond, act))\n",
    "        procs.append(hcsp.ITE(ite, hcsp.Var(du_proc_name(state))))\n",
    "    else:\n",
    "        procs.append(hcsp.Var(du_proc_name(state)))\n",
    "    return hcsp.seq(procs)"
   ]
  },
  {
   "cell_type": "code",
   "execution_count": 18,
   "metadata": {},
   "outputs": [],
   "source": [
    "def get_exit_proc(state):\n",
    "    \"\"\"Exit procedure from the given state.\n",
    "    \n",
    "    The procedure does only two things:\n",
    "    - if the current state is an OR-state, clear the corresponding active state\n",
    "      variable.\n",
    "    - call the ex action of state.\n",
    "\n",
    "    \"\"\"\n",
    "    procs = []\n",
    "    \n",
    "    # Perform ex action\n",
    "    procs.append(hcsp.Var(ex_proc_name(state)))\n",
    "\n",
    "    # Set the activation variable\n",
    "    if isinstance(state, OR_State):\n",
    "        procs.append(hcsp.Assign(active_state_name(state.father), expr.AConst(\"\")))\n",
    "        \n",
    "    return hcsp.seq(procs)"
   ]
  },
  {
   "cell_type": "code",
   "execution_count": 19,
   "metadata": {},
   "outputs": [
    {
     "name": "stdout",
     "output_type": "stream",
     "text": [
      "en_A ::= skip\n",
      "en_A1 ::= skip\n",
      "en_A2 ::= log(\"en_A2\")\n",
      "en_A3 ::= log(\"en_A3\")\n",
      "en_B ::= skip\n",
      "en_B1 ::= skip\n",
      "en_B2 ::= log(\"en_B2\")\n",
      "en_Chart ::= skip\n"
     ]
    }
   ],
   "source": [
    "for ssid in chart.all_states:\n",
    "    state = chart.all_states[ssid]\n",
    "    print(en_proc_name(state), '::=', get_en_proc(state))"
   ]
  },
  {
   "cell_type": "code",
   "execution_count": 20,
   "metadata": {
    "scrolled": true
   },
   "outputs": [
    {
     "name": "stdout",
     "output_type": "stream",
     "text": [
      "entry_A ::= @en_A\n",
      "entry_A1 ::= A_st := \"A1\"; @en_A1\n",
      "entry_A2 ::= A_st := \"A2\"; @en_A2\n",
      "entry_A3 ::= A_st := \"A3\"; @en_A3\n",
      "entry_B ::= @en_B\n",
      "entry_B1 ::= B_st := \"B1\"; @en_B1\n",
      "entry_B2 ::= B_st := \"B2\"; @en_B2\n",
      "entry_Chart ::= @en_Chart\n"
     ]
    }
   ],
   "source": [
    "for ssid in chart.all_states:\n",
    "    state = chart.all_states[ssid]\n",
    "    print(entry_proc_name(state), '::=', get_entry_proc(state))"
   ]
  },
  {
   "cell_type": "code",
   "execution_count": 21,
   "metadata": {},
   "outputs": [
    {
     "name": "stdout",
     "output_type": "stream",
     "text": [
      "ex_A ::= skip\n",
      "ex_A1 ::= skip\n",
      "ex_A2 ::= skip\n",
      "ex_A3 ::= skip\n",
      "ex_B ::= skip\n",
      "ex_B1 ::= skip\n",
      "ex_B2 ::= skip\n",
      "ex_Chart ::= skip\n"
     ]
    }
   ],
   "source": [
    "for ssid in chart.all_states:\n",
    "    state = chart.all_states[ssid]\n",
    "    print(ex_proc_name(state), '::=', get_ex_proc(state))"
   ]
  },
  {
   "cell_type": "code",
   "execution_count": 22,
   "metadata": {},
   "outputs": [
    {
     "name": "stdout",
     "output_type": "stream",
     "text": [
      "exit_A ::= @ex_A\n",
      "exit_A1 ::= @ex_A1; A_st := \"\"\n",
      "exit_A2 ::= @ex_A2; A_st := \"\"\n",
      "exit_A3 ::= @ex_A3; A_st := \"\"\n",
      "exit_B ::= @ex_B\n",
      "exit_B1 ::= @ex_B1; B_st := \"\"\n",
      "exit_B2 ::= @ex_B2; B_st := \"\"\n",
      "exit_Chart ::= @ex_Chart\n"
     ]
    }
   ],
   "source": [
    "for ssid in chart.all_states:\n",
    "    state = chart.all_states[ssid]\n",
    "    print(exit_proc_name(state), '::=', get_exit_proc(state))"
   ]
  },
  {
   "cell_type": "code",
   "execution_count": 23,
   "metadata": {},
   "outputs": [
    {
     "name": "stdout",
     "output_type": "stream",
     "text": [
      "du_A ::= skip\n",
      "du_A1 ::= skip\n",
      "du_A2 ::= skip\n",
      "du_A3 ::= skip\n",
      "du_B ::= skip\n",
      "du_B1 ::= skip\n",
      "du_B2 ::= skip\n",
      "du_Chart ::= skip\n"
     ]
    }
   ],
   "source": [
    "for ssid in chart.all_states:\n",
    "    state = chart.all_states[ssid]\n",
    "    print(du_proc_name(state), '::=', get_du_proc(state))"
   ]
  },
  {
   "cell_type": "code",
   "execution_count": 24,
   "metadata": {},
   "outputs": [
    {
     "name": "stdout",
     "output_type": "stream",
     "text": [
      "during_A ::= @du_A\n",
      "during_A1 ::= if true then @exit_A1; @entry_A2 else @du_A1 endif\n",
      "during_A2 ::= if true then @exit_A2; @entry_A3 else @du_A2 endif\n",
      "during_A3 ::= @du_A3\n",
      "during_B ::= @du_B\n",
      "during_B1 ::= if true then log(\"b\"); @exit_B1; @exec_Chart; log(\"tb\"); @entry_B2 else @du_B1 endif\n",
      "during_B2 ::= @du_B2\n",
      "during_Chart ::= @du_Chart\n"
     ]
    }
   ],
   "source": [
    "for ssid in chart.all_states:\n",
    "    state = chart.all_states[ssid]\n",
    "    print(during_proc_name(state), '::=', get_during_proc(state))"
   ]
  },
  {
   "cell_type": "code",
   "execution_count": 25,
   "metadata": {},
   "outputs": [
    {
     "name": "stdout",
     "output_type": "stream",
     "text": [
      "@entry_Chart;\n",
      "@entry_A;\n",
      "@entry_A1;\n",
      "@entry_B;\n",
      "@entry_B1\n"
     ]
    }
   ],
   "source": [
    "print(pprint(get_rec_entry_proc(chart.diagram)))"
   ]
  },
  {
   "cell_type": "code",
   "execution_count": 26,
   "metadata": {
    "scrolled": false
   },
   "outputs": [
    {
     "name": "stdout",
     "output_type": "stream",
     "text": [
      "if B_st == \"B1\" then\n",
      "  @exit_B1\n",
      "elif B_st == \"B2\" then\n",
      "  @exit_B2\n",
      "else\n",
      "  skip\n",
      "endif;\n",
      "@exit_B;\n",
      "if A_st == \"A1\" then\n",
      "  @exit_A1\n",
      "elif A_st == \"A2\" then\n",
      "  @exit_A2\n",
      "elif A_st == \"A3\" then\n",
      "  @exit_A3\n",
      "else\n",
      "  skip\n",
      "endif;\n",
      "@exit_A;\n",
      "@exit_Chart\n"
     ]
    }
   ],
   "source": [
    "print(pprint(get_rec_exit_proc(chart.diagram)))"
   ]
  },
  {
   "cell_type": "code",
   "execution_count": 27,
   "metadata": {},
   "outputs": [],
   "source": [
    "def get_rec_during_proc(state):\n",
    "    \"\"\"Return the process for recursively executing an state.\"\"\"\n",
    "    procs = []\n",
    "    # First, execute the during procedure\n",
    "    procs.append(hcsp.Var(during_proc_name(state)))\n",
    "    \n",
    "    # Next, recursively execute child states\n",
    "    if state.children:\n",
    "        if isinstance(state.children[0], AND_State):\n",
    "            for child in state.children:\n",
    "                procs.append(get_rec_during_proc(child))\n",
    "        elif isinstance(state.children[0], OR_State):\n",
    "            ite = []\n",
    "            for child in state.children:\n",
    "                ite.append((expr.RelExpr(\"==\", expr.AVar(active_state_name(state)), expr.AConst(child.name)),\n",
    "                            get_rec_during_proc(child)))\n",
    "            procs.append(hcsp.ITE(ite))\n",
    "        else:\n",
    "            raise TypeError\n",
    "    return hcsp.seq(procs)"
   ]
  },
  {
   "cell_type": "code",
   "execution_count": 28,
   "metadata": {},
   "outputs": [
    {
     "name": "stdout",
     "output_type": "stream",
     "text": [
      "@during_Chart;\n",
      "@during_A;\n",
      "if A_st == \"A1\" then\n",
      "  @during_A1\n",
      "elif A_st == \"A2\" then\n",
      "  @during_A2\n",
      "elif A_st == \"A3\" then\n",
      "  @during_A3\n",
      "else\n",
      "  skip\n",
      "endif;\n",
      "@during_B;\n",
      "if B_st == \"B1\" then\n",
      "  @during_B1\n",
      "elif B_st == \"B2\" then\n",
      "  @during_B2\n",
      "else\n",
      "  skip\n",
      "endif\n"
     ]
    }
   ],
   "source": [
    "print(pprint(get_rec_during_proc(chart.diagram)))"
   ]
  },
  {
   "cell_type": "code",
   "execution_count": 29,
   "metadata": {},
   "outputs": [],
   "source": [
    "def get_procs(chart):\n",
    "    \"\"\"Returns the list of procedures.\"\"\"\n",
    "    all_procs = []\n",
    "\n",
    "    for ssid, state in chart.all_states.items():\n",
    "        all_procs.append(hcsp.Procedure(en_proc_name(state), get_en_proc(state)))\n",
    "        all_procs.append(hcsp.Procedure(du_proc_name(state), get_du_proc(state)))\n",
    "        all_procs.append(hcsp.Procedure(ex_proc_name(state), get_ex_proc(state)))\n",
    "        all_procs.append(hcsp.Procedure(entry_proc_name(state), get_entry_proc(state)))\n",
    "        all_procs.append(hcsp.Procedure(during_proc_name(state), get_during_proc(state)))\n",
    "        all_procs.append(hcsp.Procedure(exit_proc_name(state), get_exit_proc(state)))\n",
    "    \n",
    "    all_procs.extend([\n",
    "        hcsp.Procedure(init_name(), get_init_proc()),\n",
    "        hcsp.Procedure(exec_name(), get_exec_proc())\n",
    "    ])\n",
    "\n",
    "    return all_procs"
   ]
  },
  {
   "cell_type": "code",
   "execution_count": 30,
   "metadata": {},
   "outputs": [],
   "source": [
    "def get_toplevel_process(chart):\n",
    "    \"\"\"Returns the top-level process for chart.\"\"\"\n",
    "    return hcsp.Sequence(\n",
    "        hcsp.Var(init_name()),\n",
    "        hcsp.Loop(hcsp.Sequence(\n",
    "            hcsp.Var(exec_name()),\n",
    "            hcsp.Wait(expr.AConst(0.1))\n",
    "        ))\n",
    "    )"
   ]
  },
  {
   "cell_type": "code",
   "execution_count": 31,
   "metadata": {},
   "outputs": [
    {
     "name": "stdout",
     "output_type": "stream",
     "text": [
      "en_A ::= skip\n",
      "du_A ::= skip\n",
      "ex_A ::= skip\n",
      "entry_A ::= @en_A\n",
      "during_A ::= @du_A\n",
      "exit_A ::= @ex_A\n",
      "en_A1 ::= skip\n",
      "du_A1 ::= skip\n",
      "ex_A1 ::= skip\n",
      "entry_A1 ::= A_st := \"A1\"; @en_A1\n",
      "during_A1 ::= if true then @exit_A1; @entry_A2 else @du_A1 endif\n",
      "exit_A1 ::= @ex_A1; A_st := \"\"\n",
      "en_A2 ::= log(\"en_A2\")\n",
      "du_A2 ::= skip\n",
      "ex_A2 ::= skip\n",
      "entry_A2 ::= A_st := \"A2\"; @en_A2\n",
      "during_A2 ::= if true then @exit_A2; @entry_A3 else @du_A2 endif\n",
      "exit_A2 ::= @ex_A2; A_st := \"\"\n",
      "en_A3 ::= log(\"en_A3\")\n",
      "du_A3 ::= skip\n",
      "ex_A3 ::= skip\n",
      "entry_A3 ::= A_st := \"A3\"; @en_A3\n",
      "during_A3 ::= @du_A3\n",
      "exit_A3 ::= @ex_A3; A_st := \"\"\n",
      "en_B ::= skip\n",
      "du_B ::= skip\n",
      "ex_B ::= skip\n",
      "entry_B ::= @en_B\n",
      "during_B ::= @du_B\n",
      "exit_B ::= @ex_B\n",
      "en_B1 ::= skip\n",
      "du_B1 ::= skip\n",
      "ex_B1 ::= skip\n",
      "entry_B1 ::= B_st := \"B1\"; @en_B1\n",
      "during_B1 ::= if true then log(\"b\"); @exit_B1; @exec_Chart; log(\"tb\"); @entry_B2 else @du_B1 endif\n",
      "exit_B1 ::= @ex_B1; B_st := \"\"\n",
      "en_B2 ::= log(\"en_B2\")\n",
      "du_B2 ::= skip\n",
      "ex_B2 ::= skip\n",
      "entry_B2 ::= B_st := \"B2\"; @en_B2\n",
      "during_B2 ::= @du_B2\n",
      "exit_B2 ::= @ex_B2; B_st := \"\"\n",
      "en_Chart ::= skip\n",
      "du_Chart ::= skip\n",
      "ex_Chart ::= skip\n",
      "entry_Chart ::= @en_Chart\n",
      "during_Chart ::= @du_Chart\n",
      "exit_Chart ::= @ex_Chart\n",
      "init_Chart ::= @entry_Chart; @entry_A; @entry_A1; @entry_B; @entry_B1\n",
      "exec_Chart ::= @during_Chart; @during_A; if A_st == \"A1\" then @during_A1 elif A_st == \"A2\" then @during_A2 elif A_st == \"A3\" then @during_A3 else skip endif; @during_B; if B_st == \"B1\" then @during_B1 elif B_st == \"B2\" then @during_B2 else skip endif\n"
     ]
    }
   ],
   "source": [
    "procs = get_procs(chart)\n",
    "for proc in procs:\n",
    "    print(proc.name + \" ::= \" + str(proc.hp))"
   ]
  },
  {
   "cell_type": "code",
   "execution_count": 32,
   "metadata": {},
   "outputs": [
    {
     "name": "stdout",
     "output_type": "stream",
     "text": [
      "@init_Chart;\n",
      "(\n",
      "  @exec_Chart;\n",
      "  wait(0.1)\n",
      ")**\n"
     ]
    }
   ],
   "source": [
    "hp = get_toplevel_process(chart)\n",
    "print(pprint(hp))"
   ]
  }
 ],
 "metadata": {
  "kernelspec": {
   "display_name": "Python 3",
   "language": "python",
   "name": "python3"
  },
  "language_info": {
   "codemirror_mode": {
    "name": "ipython",
    "version": 3
   },
   "file_extension": ".py",
   "mimetype": "text/x-python",
   "name": "python",
   "nbconvert_exporter": "python",
   "pygments_lexer": "ipython3",
   "version": "3.6.6"
  }
 },
 "nbformat": 4,
 "nbformat_minor": 2
}
